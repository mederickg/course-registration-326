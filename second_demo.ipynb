{
 "cells": [
  {
   "cell_type": "code",
   "execution_count": 17,
   "id": "4e492b95-2826-4703-8ff1-b6e409297176",
   "metadata": {},
   "outputs": [],
   "source": [
    "from registration import Course_db\n",
    "from registration import Student\n",
    "import pandas as pd"
   ]
  },
  {
   "cell_type": "code",
   "execution_count": 18,
   "id": "9b68bc75-f4d5-4fa1-9980-688017720c1c",
   "metadata": {},
   "outputs": [],
   "source": [
    "UMD_courses = pd.DataFrame(pd.read_csv(\"sample_data.csv\"))"
   ]
  },
  {
   "cell_type": "code",
   "execution_count": 19,
   "id": "3594d731-3603-4e40-84c4-b54365ff4178",
   "metadata": {},
   "outputs": [],
   "source": [
    "Mary = Student(\"Mary Smith\", 16, 2023, 65, UMD_courses)"
   ]
  },
  {
   "cell_type": "code",
   "execution_count": 20,
   "id": "31682225-9332-446d-9f2f-85b49a76b10d",
   "metadata": {},
   "outputs": [
    {
     "name": "stdout",
     "output_type": "stream",
     "text": [
      "   Prefix  Course number  Section number Course name              Times  \\\n",
      "0    INST            126             101       Ipsom    M W 12:00-13:00   \n",
      "1    INST            126             102       Ipsom   T Th 13:00-14:00   \n",
      "2    INST            201             101       Ipsom   M W F 9:00-10:00   \n",
      "3    INST            201             102       Ipsom   T Th 14:00-15:00   \n",
      "4    INST            326             103       Ipsom    M W F 8:00-9:00   \n",
      "5    INST            314             104       Ipsom       M W 14-15:00   \n",
      "6    INST            314             101       Ipsom    T Th 9:00-10:00   \n",
      "7    INST            335             101       Ipsom  M W F 15:00-16:00   \n",
      "8    INST            335             102       Ipsom   T Th 16:00-17:00   \n",
      "9    INST            414             101       Ipsom   T Th 16:30-17:50   \n",
      "10   INST            447             101       Ipsom  M W F 16:00-17:00   \n",
      "\n",
      "   Instructor  Building  Credits needed  \n",
      "0       Ipsom  HBK 1401               0  \n",
      "1       Ipsom  ESJ 0201               0  \n",
      "2       Ipsom  TWS 1001               0  \n",
      "3       Ipsom  IRB 3101               0  \n",
      "4       Ipsom  HBK 1402              15  \n",
      "5       Ipsom  ESJ 0202              21  \n",
      "6       Ipsom  TWS 1002              21  \n",
      "7       Ipsom  IRB 3102              30  \n",
      "8       Ipsom  HBK 1403              30  \n",
      "9       Ipsom  HBK 1403              80  \n",
      "10      Ipsom  IRB 1104              90  \n"
     ]
    }
   ],
   "source": [
    "print(Mary.course_db)"
   ]
  },
  {
   "cell_type": "code",
   "execution_count": 21,
   "id": "0aa743c0-2b3c-4b43-801a-ab46950a1cea",
   "metadata": {},
   "outputs": [
    {
     "name": "stdout",
     "output_type": "stream",
     "text": [
      "  Prefix  Course number  Section number Course name             Times  \\\n",
      "8   INST            335             102       Ipsom  T Th 16:00-17:00   \n",
      "\n",
      "  Instructor  Building  \n",
      "8      Ipsom  HBK 1403  \n"
     ]
    }
   ],
   "source": [
    "Mary.add(\"INST\", 335, 102)\n",
    "\n",
    "print(Mary.schedule)"
   ]
  },
  {
   "cell_type": "code",
   "execution_count": 22,
   "id": "0b728e08-ff7b-4dd7-9670-6d6df19075e7",
   "metadata": {},
   "outputs": [
    {
     "name": "stdout",
     "output_type": "stream",
     "text": [
      "Empty DataFrame\n",
      "Columns: [Prefix, Course number, Section number, Course name, Times, Instructor, Building]\n",
      "Index: []\n"
     ]
    },
    {
     "name": "stderr",
     "output_type": "stream",
     "text": [
      "c:\\Users\\nowam\\Documents\\group326\\course-registration-326\\registration.py:100: UserWarning: Boolean Series key will be reindexed to match DataFrame index.\n",
      "  def __str__(self):\n"
     ]
    }
   ],
   "source": [
    "Mary.drop(\"INST\", 335)\n",
    "\n",
    "print(Mary.schedule)"
   ]
  }
 ],
 "metadata": {
  "kernelspec": {
   "display_name": "Python 3",
   "language": "python",
   "name": "python3"
  },
  "language_info": {
   "codemirror_mode": {
    "name": "ipython",
    "version": 3
   },
   "file_extension": ".py",
   "mimetype": "text/x-python",
   "name": "python",
   "nbconvert_exporter": "python",
   "pygments_lexer": "ipython3",
   "version": "3.10.2"
  }
 },
 "nbformat": 4,
 "nbformat_minor": 5
}
