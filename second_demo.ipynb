{
 "cells": [
  {
   "cell_type": "code",
   "execution_count": 1,
   "id": "4e492b95-2826-4703-8ff1-b6e409297176",
   "metadata": {},
   "outputs": [],
   "source": [
    "from registration import School\n",
    "from registration import Student\n",
    "import pandas as pd"
   ]
  },
  {
   "cell_type": "code",
   "execution_count": 2,
   "id": "9b68bc75-f4d5-4fa1-9980-688017720c1c",
   "metadata": {},
   "outputs": [],
   "source": [
    "UMD_courses = pd.DataFrame(pd.read_csv(\"sample_data.csv\"))\n",
    "UMD = School(\"sample_data.csv\")"
   ]
  },
  {
   "cell_type": "code",
   "execution_count": 3,
   "id": "3594d731-3603-4e40-84c4-b54365ff4178",
   "metadata": {},
   "outputs": [],
   "source": [
    "Mary = Student(\"Mary Smith\", 16, 2023, 65, UMD_courses)\n",
    "UMD.students.append(Mary)"
   ]
  },
  {
   "cell_type": "code",
   "execution_count": 4,
   "id": "31682225-9332-446d-9f2f-85b49a76b10d",
   "metadata": {},
   "outputs": [
    {
     "name": "stdout",
     "output_type": "stream",
     "text": [
      "   Prefix  Course number  Section number Course name              Times  \\\n",
      "0    INST            126             101       Ipsom    M W 12:00-13:00   \n",
      "1    INST            126             102       Ipsom   T Th 13:00-14:00   \n",
      "2    INST            201             101       Ipsom   M W F 9:00-10:00   \n",
      "3    INST            201             102       Ipsom   T Th 14:00-15:00   \n",
      "4    INST            326             103       Ipsom    M W F 8:00-9:00   \n",
      "5    INST            314             104       Ipsom       M W 14-15:00   \n",
      "6    INST            314             101       Ipsom    T Th 9:00-10:00   \n",
      "7    INST            335             101       Ipsom  M W F 15:00-16:00   \n",
      "8    INST            335             102       Ipsom   T Th 16:00-17:00   \n",
      "9    INST            414             101       Ipsom   T Th 16:30-17:50   \n",
      "10   INST            447             101       Ipsom  M W F 16:00-17:00   \n",
      "\n",
      "   Instructor  Building  Credits needed  \n",
      "0       Ipsom  HBK 1401               0  \n",
      "1       Ipsom  ESJ 0201               0  \n",
      "2       Ipsom  TWS 1001               0  \n",
      "3       Ipsom  IRB 3101               0  \n",
      "4       Ipsom  HBK 1402              15  \n",
      "5       Ipsom  ESJ 0202              21  \n",
      "6       Ipsom  TWS 1002              21  \n",
      "7       Ipsom  IRB 3102              30  \n",
      "8       Ipsom  HBK 1403              30  \n",
      "9       Ipsom  HBK 1403              80  \n",
      "10      Ipsom  IRB 1104              90  \n"
     ]
    }
   ],
   "source": [
    "print(Mary.course_db)"
   ]
  },
  {
   "cell_type": "code",
   "execution_count": 5,
   "id": "0aa743c0-2b3c-4b43-801a-ab46950a1cea",
   "metadata": {},
   "outputs": [
    {
     "name": "stdout",
     "output_type": "stream",
     "text": [
      "  Prefix  Course number  Section number Course name             Times  \\\n",
      "8   INST            335             102       Ipsom  T Th 16:00-17:00   \n",
      "\n",
      "  Instructor  Building  \n",
      "8      Ipsom  HBK 1403  \n"
     ]
    }
   ],
   "source": [
    "Mary.add(\"INST\", 335, 102)\n",
    "\n",
    "print(Mary.schedule)"
   ]
  },
  {
   "cell_type": "code",
   "execution_count": 6,
   "id": "0b728e08-ff7b-4dd7-9670-6d6df19075e7",
   "metadata": {},
   "outputs": [
    {
     "name": "stdout",
     "output_type": "stream",
     "text": [
      "  Prefix  Course number  Section number Course name             Times  \\\n",
      "8   INST            335             102       Ipsom  T Th 16:00-17:00   \n",
      "\n",
      "  Instructor  Building  \n",
      "8      Ipsom  HBK 1403  \n"
     ]
    }
   ],
   "source": [
    "#Mary.drop(\"INST\", 335)\n",
    "\n",
    "print(Mary.schedule)"
   ]
  },
  {
   "cell_type": "code",
   "execution_count": 7,
   "id": "41df9e46",
   "metadata": {},
   "outputs": [
    {
     "name": "stdout",
     "output_type": "stream",
     "text": [
      "INST335\n",
      "  Prefix  Course number  Section number Course name             Times  \\\n",
      "8   INST            335             102       Ipsom  T Th 16:00-17:00   \n",
      "\n",
      "  Instructor  Building  \n",
      "8      Ipsom  HBK 1403  \n",
      "[<registration.Student object at 0x000001D588E9B670>]\n"
     ]
    },
    {
     "data": {
      "image/png": "[encoded data removed]",
      "text/plain": [
       "<Figure size 720x360 with 1 Axes>"
      ]
     },
     "metadata": {
      "needs_background": "light"
     },
     "output_type": "display_data"
    }
   ],
   "source": [
    "print(Mary.schedule['Prefix'].iloc[0] + str(Mary.schedule['Course number'].iloc[0]))\n",
    "print(Mary.schedule)\n",
    "print(UMD.students)\n",
    "UMD.student_stats('INST335')"
   ]
  }
 ],
 "metadata": {
  "interpreter": {
   "hash": "91b0f9611463a9792426a975c97491acda42d543aee915178ee5e41afe7161ad"
  },
  "kernelspec": {
   "display_name": "Python 3.10.2 64-bit",
   "language": "python",
   "name": "python3"
  },
  "language_info": {
   "codemirror_mode": {
    "name": "ipython",
    "version": 3
   },
   "file_extension": ".py",
   "mimetype": "text/x-python",
   "name": "python",
   "nbconvert_exporter": "python",
   "pygments_lexer": "ipython3",
   "version": "3.10.2"
  }
 },
 "nbformat": 4,
 "nbformat_minor": 5
}
