{
 "cells": [
  {
   "cell_type": "code",
   "execution_count": 17,
   "metadata": {},
   "outputs": [],
   "source": [
    "from registration import Register\n",
    "\n",
    "Mary = Register(\"sample_transcript.csv\",\"sample_data.csv\")"
   ]
  },
  {
   "cell_type": "code",
   "execution_count": 18,
   "metadata": {},
   "outputs": [],
   "source": [
    "Mary.add('INST',126,101)\n",
    "Mary.add('INST',314,101)"
   ]
  },
  {
   "cell_type": "code",
   "execution_count": 19,
   "metadata": {},
   "outputs": [
    {
     "data": {
      "text/html": [
       "<div>\n",
       "<style scoped>\n",
       "    .dataframe tbody tr th:only-of-type {\n",
       "        vertical-align: middle;\n",
       "    }\n",
       "\n",
       "    .dataframe tbody tr th {\n",
       "        vertical-align: top;\n",
       "    }\n",
       "\n",
       "    .dataframe thead th {\n",
       "        text-align: right;\n",
       "    }\n",
       "</style>\n",
       "<table border=\"1\" class=\"dataframe\">\n",
       "  <thead>\n",
       "    <tr style=\"text-align: right;\">\n",
       "      <th></th>\n",
       "      <th>Prefix</th>\n",
       "      <th>Course number</th>\n",
       "      <th>Section number</th>\n",
       "      <th>Course name</th>\n",
       "      <th>Times</th>\n",
       "      <th>Instructor</th>\n",
       "      <th>Building</th>\n",
       "    </tr>\n",
       "  </thead>\n",
       "  <tbody>\n",
       "    <tr>\n",
       "      <th>0</th>\n",
       "      <td>INST</td>\n",
       "      <td>126</td>\n",
       "      <td>101</td>\n",
       "      <td>Ipsom</td>\n",
       "      <td>M W 12:00-13:00</td>\n",
       "      <td>Ipsom</td>\n",
       "      <td>HBK 1401</td>\n",
       "    </tr>\n",
       "    <tr>\n",
       "      <th>6</th>\n",
       "      <td>INST</td>\n",
       "      <td>314</td>\n",
       "      <td>101</td>\n",
       "      <td>Ipsom</td>\n",
       "      <td>T Th 9:00-10:00</td>\n",
       "      <td>Ipsom</td>\n",
       "      <td>TWS 1002</td>\n",
       "    </tr>\n",
       "  </tbody>\n",
       "</table>\n",
       "</div>"
      ],
      "text/plain": [
       "  Prefix  Course number  Section number Course name            Times  \\\n",
       "0   INST            126             101       Ipsom  M W 12:00-13:00   \n",
       "6   INST            314             101       Ipsom  T Th 9:00-10:00   \n",
       "\n",
       "  Instructor  Building  \n",
       "0      Ipsom  HBK 1401  \n",
       "6      Ipsom  TWS 1002  "
      ]
     },
     "execution_count": 19,
     "metadata": {},
     "output_type": "execute_result"
    }
   ],
   "source": [
    "Mary.schedule"
   ]
  }
 ],
 "metadata": {
  "interpreter": {
   "hash": "706df9c1bee0da9ec5fb543f66c3f886301820d48d59ff6a7571278c9c3209ac"
  },
  "kernelspec": {
   "display_name": "Python 3.10.2 64-bit",
   "language": "python",
   "name": "python3"
  },
  "language_info": {
   "codemirror_mode": {
    "name": "ipython",
    "version": 3
   },
   "file_extension": ".py",
   "mimetype": "text/x-python",
   "name": "python",
   "nbconvert_exporter": "python",
   "pygments_lexer": "ipython3",
   "version": "3.10.2"
  },
  "orig_nbformat": 4
 },
 "nbformat": 4,
 "nbformat_minor": 2
}
